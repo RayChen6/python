{
 "cells": [
  {
   "cell_type": "code",
   "execution_count": 45,
   "metadata": {},
   "outputs": [],
   "source": [
    "import numpy as np\n",
    "import pandas as pd"
   ]
  },
  {
   "cell_type": "code",
   "execution_count": 60,
   "metadata": {},
   "outputs": [],
   "source": [
    "data_kaggle = pd.read_csv(f\"F:\\Desktop\\暑假疯狂自学\\youtube机器学习数学课（进行中）\\spam-or-not-spam-dataset\\spam_or_not_spam.csv\")"
   ]
  },
  {
   "cell_type": "code",
   "execution_count": 47,
   "metadata": {
    "scrolled": true
   },
   "outputs": [
    {
     "data": {
      "text/html": [
       "<div>\n",
       "<style scoped>\n",
       "    .dataframe tbody tr th:only-of-type {\n",
       "        vertical-align: middle;\n",
       "    }\n",
       "\n",
       "    .dataframe tbody tr th {\n",
       "        vertical-align: top;\n",
       "    }\n",
       "\n",
       "    .dataframe thead th {\n",
       "        text-align: right;\n",
       "    }\n",
       "</style>\n",
       "<table border=\"1\" class=\"dataframe\">\n",
       "  <thead>\n",
       "    <tr style=\"text-align: right;\">\n",
       "      <th></th>\n",
       "      <th>email</th>\n",
       "      <th>label</th>\n",
       "    </tr>\n",
       "  </thead>\n",
       "  <tbody>\n",
       "    <tr>\n",
       "      <th>0</th>\n",
       "      <td>date wed NUMBER aug NUMBER NUMBER NUMBER NUMB...</td>\n",
       "      <td>0</td>\n",
       "    </tr>\n",
       "    <tr>\n",
       "      <th>1</th>\n",
       "      <td>martin a posted tassos papadopoulos the greek ...</td>\n",
       "      <td>0</td>\n",
       "    </tr>\n",
       "    <tr>\n",
       "      <th>2</th>\n",
       "      <td>man threatens explosion in moscow thursday aug...</td>\n",
       "      <td>0</td>\n",
       "    </tr>\n",
       "    <tr>\n",
       "      <th>3</th>\n",
       "      <td>klez the virus that won t die already the most...</td>\n",
       "      <td>0</td>\n",
       "    </tr>\n",
       "    <tr>\n",
       "      <th>4</th>\n",
       "      <td>in adding cream to spaghetti carbonara which ...</td>\n",
       "      <td>0</td>\n",
       "    </tr>\n",
       "  </tbody>\n",
       "</table>\n",
       "</div>"
      ],
      "text/plain": [
       "                                               email  label\n",
       "0   date wed NUMBER aug NUMBER NUMBER NUMBER NUMB...      0\n",
       "1  martin a posted tassos papadopoulos the greek ...      0\n",
       "2  man threatens explosion in moscow thursday aug...      0\n",
       "3  klez the virus that won t die already the most...      0\n",
       "4   in adding cream to spaghetti carbonara which ...      0"
      ]
     },
     "execution_count": 47,
     "metadata": {},
     "output_type": "execute_result"
    }
   ],
   "source": [
    "data_kaggle.head()"
   ]
  },
  {
   "cell_type": "code",
   "execution_count": 56,
   "metadata": {
    "scrolled": true
   },
   "outputs": [
    {
     "data": {
      "text/plain": [
       "3000"
      ]
     },
     "execution_count": 56,
     "metadata": {},
     "output_type": "execute_result"
    }
   ],
   "source": [
    "len(data_kaggle)"
   ]
  },
  {
   "cell_type": "code",
   "execution_count": 202,
   "metadata": {
    "scrolled": true
   },
   "outputs": [],
   "source": [
    "data['label'] = data_kaggle['label']\n",
    "wordlist = []\n",
    "emaillist = []\n",
    "elist = data_kaggle['email'].astype(str).tolist()\n",
    "for e in elist:\n",
    "    wordlist = e.split(' ')\n",
    "    if wordlist[0] == '':\n",
    "        wordlist.pop(0)\n",
    "    elif wordlist[-1] == '':\n",
    "            wordlist.pop()\n",
    "    emaillist.append(wordlist)\n"
   ]
  },
  {
   "cell_type": "code",
   "execution_count": 203,
   "metadata": {},
   "outputs": [],
   "source": [
    "data['email'] = pd.Series(emaillist)"
   ]
  },
  {
   "cell_type": "code",
   "execution_count": 204,
   "metadata": {},
   "outputs": [
    {
     "data": {
      "text/html": [
       "<div>\n",
       "<style scoped>\n",
       "    .dataframe tbody tr th:only-of-type {\n",
       "        vertical-align: middle;\n",
       "    }\n",
       "\n",
       "    .dataframe tbody tr th {\n",
       "        vertical-align: top;\n",
       "    }\n",
       "\n",
       "    .dataframe thead th {\n",
       "        text-align: right;\n",
       "    }\n",
       "</style>\n",
       "<table border=\"1\" class=\"dataframe\">\n",
       "  <thead>\n",
       "    <tr style=\"text-align: right;\">\n",
       "      <th></th>\n",
       "      <th>email</th>\n",
       "      <th>label</th>\n",
       "    </tr>\n",
       "  </thead>\n",
       "  <tbody>\n",
       "    <tr>\n",
       "      <th>0</th>\n",
       "      <td>[date, wed, NUMBER, aug, NUMBER, NUMBER, NUMBE...</td>\n",
       "      <td>0</td>\n",
       "    </tr>\n",
       "    <tr>\n",
       "      <th>1</th>\n",
       "      <td>[martin, a, posted, tassos, papadopoulos, the,...</td>\n",
       "      <td>0</td>\n",
       "    </tr>\n",
       "    <tr>\n",
       "      <th>2</th>\n",
       "      <td>[man, threatens, explosion, in, moscow, thursd...</td>\n",
       "      <td>0</td>\n",
       "    </tr>\n",
       "    <tr>\n",
       "      <th>3</th>\n",
       "      <td>[klez, the, virus, that, won, t, die, already,...</td>\n",
       "      <td>0</td>\n",
       "    </tr>\n",
       "    <tr>\n",
       "      <th>4</th>\n",
       "      <td>[in, adding, cream, to, spaghetti, carbonara, ...</td>\n",
       "      <td>0</td>\n",
       "    </tr>\n",
       "  </tbody>\n",
       "</table>\n",
       "</div>"
      ],
      "text/plain": [
       "                                               email  label\n",
       "0  [date, wed, NUMBER, aug, NUMBER, NUMBER, NUMBE...      0\n",
       "1  [martin, a, posted, tassos, papadopoulos, the,...      0\n",
       "2  [man, threatens, explosion, in, moscow, thursd...      0\n",
       "3  [klez, the, virus, that, won, t, die, already,...      0\n",
       "4  [in, adding, cream, to, spaghetti, carbonara, ...      0"
      ]
     },
     "execution_count": 204,
     "metadata": {},
     "output_type": "execute_result"
    }
   ],
   "source": [
    "data.head()"
   ]
  },
  {
   "cell_type": "code",
   "execution_count": 205,
   "metadata": {},
   "outputs": [],
   "source": [
    "from sklearn.model_selection import train_test_split\n",
    "x = data['email']\n",
    "y = data['label']\n",
    "x_train,x_test,y_train,y_test = train_test_split(x,y,test_size = 0.33)"
   ]
  },
  {
   "cell_type": "markdown",
   "metadata": {},
   "source": [
    "## Naive Bayes"
   ]
  },
  {
   "cell_type": "code",
   "execution_count": 206,
   "metadata": {},
   "outputs": [],
   "source": [
    "# create traindata and testdata\n",
    "train1_data = pd.DataFrame()\n",
    "test1_data = pd.DataFrame()\n",
    "train1_data['email'] = x_train\n",
    "train1_data['label'] = y_train\n",
    "test1_data['email'] = x_test\n",
    "test1_data['label'] = y_test\n",
    "train_dict = {'email':pd.Series(train1_data['email'].values),'label':pd.Series(train1_data['label'].values)}\n",
    "test_dict = {'email':pd.Series(test1_data['email'].values),'label':pd.Series(test1_data['label'].values)}\n",
    "train_data = pd.DataFrame(train_dict)\n",
    "test_data = pd.DataFrame(test_dict)"
   ]
  },
  {
   "cell_type": "code",
   "execution_count": 207,
   "metadata": {},
   "outputs": [],
   "source": [
    "def conflate(adict,bdict):\n",
    "    dic = {}\n",
    "    for key in adict:\n",
    "        if bdict.get(key):\n",
    "            dic[key] = adict[key]+bdict[key]\n",
    "        else:\n",
    "            dic[key] = adict[key]\n",
    "    for key in bdict:\n",
    "        if adict.get(key):\n",
    "            pass\n",
    "        else:\n",
    "            dic[key] = bdict[key]\n",
    "    return dic\n",
    "\n",
    "def train():\n",
    "    total = 0\n",
    "    numSpam = 0\n",
    "    trainPositive = {}\n",
    "    trainNegative = {}\n",
    "    positiveTotal,negativeTotal = 0,0\n",
    "    for i in range(len(train_data)):\n",
    "        piece = train_data.loc[i]\n",
    "        if piece.label == 1:\n",
    "            numSpam += 1\n",
    "        total += 1\n",
    "        atuple = processEmail(piece.email,piece.label)\n",
    "        positiveTotal += atuple[0]\n",
    "        negativeTotal += atuple[1]\n",
    "        trainPositive = conflate(trainPositive,atuple[2])\n",
    "        trainNegative = conflate(trainNegative,atuple[3])\n",
    "    return numSpam/total,(total-numSpam)/total,positiveTotal,negativeTotal,trainPositive,trainNegative\n",
    "    \n",
    "# reading words from a specific email\n",
    "def processEmail(email,label):\n",
    "    positiveTotal,negativeTotal = 0,0\n",
    "    trainPositive = {}\n",
    "    trainNegative = {}\n",
    "    for word in email:\n",
    "        if label == 1:\n",
    "            trainPositive[word] = trainPositive.get(word,0) + 1\n",
    "            positiveTotal += 1\n",
    "        else:\n",
    "            trainNegative[word] = trainNegative.get(word,0) + 1\n",
    "            negativeTotal += 1\n",
    "    return positiveTotal,negativeTotal,trainPositive,trainNegative\n",
    "        \n",
    "# gives the conditional probability p(B/A_x)\n",
    "def conditionalEmail(email,label):\n",
    "    result = 1\n",
    "    for word in email:\n",
    "        result *= conditionalWord(word,label)\n",
    "    return result\n",
    "\n",
    "# classifies a new email as spam or not spam\n",
    "def classify(email):\n",
    "    isSpam = PA * conditionalEmail(email,True)\n",
    "    notSpam = PNotA * conditionalEmail(email,False)\n",
    "    return 1 if isSpam>notSpam else 0\n",
    "# Laplace Smoothing for the words not present in the training set\n",
    "# gives the conditional probability P(B_i/A_x) with smoothing\n",
    "def conditionalWord(word,label):\n",
    "    if label:\n",
    "        return (trainPositive.get(word,0)+alpha)/(float)(positiveTotal+alpha*numWords)\n",
    "    return (trainNegative.get(word,0)+alpha)/(float)(negativeTotal+alpha*numWords)\n",
    "\n",
    "        "
   ]
  },
  {
   "cell_type": "code",
   "execution_count": 208,
   "metadata": {},
   "outputs": [],
   "source": [
    "PA,PNotA,positiveTotal,negativeTotal,trainPositive,trainNegative = train()\n",
    "numWords = 50000\n",
    "alpha = 1"
   ]
  },
  {
   "cell_type": "code",
   "execution_count": 209,
   "metadata": {},
   "outputs": [
    {
     "name": "stdout",
     "output_type": "stream",
     "text": [
      "0.1701492537313433\n",
      "0.8298507462686567\n",
      "98884\n",
      "362919\n",
      "182\n",
      "453\n"
     ]
    }
   ],
   "source": [
    "print(PA)\n",
    "print(PNotA)\n",
    "print(positiveTotal)\n",
    "print(negativeTotal)\n",
    "print(trainPositive[''])\n",
    "print(trainNegative[''])"
   ]
  },
  {
   "cell_type": "code",
   "execution_count": 210,
   "metadata": {},
   "outputs": [
    {
     "name": "stdout",
     "output_type": "stream",
     "text": [
      "0.8818181818181818\n"
     ]
    },
    {
     "name": "stderr",
     "output_type": "stream",
     "text": [
      "D:\\Anaconda3\\lib\\site-packages\\ipykernel_launcher.py:4: SettingWithCopyWarning: \n",
      "A value is trying to be set on a copy of a slice from a DataFrame\n",
      "\n",
      "See the caveats in the documentation: http://pandas.pydata.org/pandas-docs/stable/indexing.html#indexing-view-versus-copy\n",
      "  after removing the cwd from sys.path.\n"
     ]
    }
   ],
   "source": [
    "prediction = [classify(email) for email in test_data['email'].tolist()]\n",
    "test_data['prediction'] = pd.Series(prediction)\n",
    "test_data['accuracy'] = pd.Series([0 for i in range(len(test_data))])\n",
    "test_data['accuracy'][test_data['prediction']==test_data['label']] = 1\n",
    "accuracy = sum(test_data['accuracy'].tolist())/len(test_data)\n",
    "print(accuracy)"
   ]
  }
 ],
 "metadata": {
  "kernelspec": {
   "display_name": "Python 3",
   "language": "python",
   "name": "python3"
  },
  "language_info": {
   "codemirror_mode": {
    "name": "ipython",
    "version": 3
   },
   "file_extension": ".py",
   "mimetype": "text/x-python",
   "name": "python",
   "nbconvert_exporter": "python",
   "pygments_lexer": "ipython3",
   "version": "3.7.3"
  }
 },
 "nbformat": 4,
 "nbformat_minor": 2
}
